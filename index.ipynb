{
 "cells": [
  {
   "cell_type": "markdown",
   "metadata": {},
   "source": [
    "# Building a Simple Autoencoder - Lab\n",
    "\n",
    "## Introduction\n",
    "In this lab, we will try to build a simple autoencoder using Keras. We will work with the fashion-MNIST dataset to work out a problem of image compression and reconstruction. With a simple AE, the results may not be highly impressive, but the key takeaway from this lab is to see how the encoding/decoding functions are implemented neural nets and are differentiable with respect to the distance function. The differentiable part enables optimizing the parameters of the encoding/decoding functions to minimize the reconstruction loss.\n",
    "\n",
    "Note: Refer to [Keras dcumentation](https://keras.io/) for details on methods used in this lab. \n",
    "\n",
    "## Objectives\n",
    "\n",
    "You will be able to:\n",
    "\n",
    "- Build a simple autoencoder in Keras\n",
    "- Create the encoder and decoder functions as fully connected layers of a feed forward styled neural network. \n",
    "- Train an autoencoder with selected loss function and optimizer."
   ]
  },
  {
   "cell_type": "markdown",
   "metadata": {},
   "source": [
    "First let's import all the necessary libraries required for this experiment."
   ]
  },
  {
   "cell_type": "code",
   "execution_count": 2,
   "metadata": {},
   "outputs": [
    {
     "name": "stderr",
     "output_type": "stream",
     "text": [
      "Using TensorFlow backend.\n"
     ]
    }
   ],
   "source": [
    "# Install tensorflow and keras if you haven't done so already\n",
    "# !pip install tensorflow\n",
    "# !pip install keras\n",
    "# Import necessary libraries\n",
    "import numpy as np\n",
    "import keras\n",
    "from keras.datasets import fashion_mnist\n",
    "from keras.models import Model, Sequential\n",
    "from keras.layers import Input, Dense, Conv2D, MaxPooling2D, UpSampling2D, Flatten, Reshape\n",
    "from keras import regularizers\n",
    "\n",
    "from IPython.display import Image\n",
    "import matplotlib.pyplot as plt"
   ]
  },
  {
   "cell_type": "markdown",
   "metadata": {},
   "source": [
    "## The Fashion-MNIST dataset\n",
    "\n",
    "We have already seen the popular MNIST dataset in our previous lessons. Let's load the very similar [\"fashion-mnist\" dataset](https://github.com/zalandoresearch/fashion-mnist). \n",
    "\n",
    "*\"Fashion-MNIST is a dataset of Zalando's article images—consisting of a training set of 60,000 examples and a test set of 10,000 examples. Each example is a 28x28 grayscale image, associated with a label from 10 classes. We intend Fashion-MNIST to serve as a direct drop-in replacement for the original MNIST dataset for benchmarking machine learning algorithms. It shares the same image size and structure of training and testing splits.\"* \n",
    "\n",
    "This dataset comes packaged with keras and can be loaded using `fashion_mnist.load_data()`. More details on keras datasets can be seen on [keras documentation](https://keras.io/datasets/). Below is a quick sample of images that you may find in this dataset.\n",
    "\n",
    "<img src=\"dataset.png\" width=700>\n",
    "\n",
    "Perform following tasks:\n",
    "- Load the Fashion-mnist feature set into test and training datasets (ignore labels/targets for now)\n",
    "- Normalize the values of train and test datasets between 0 and 1\n",
    "- Check the shape of both datasets created above. "
   ]
  },
  {
   "cell_type": "code",
   "execution_count": 3,
   "metadata": {},
   "outputs": [
    {
     "name": "stdout",
     "output_type": "stream",
     "text": [
      "Downloading data from http://fashion-mnist.s3-website.eu-central-1.amazonaws.com/train-labels-idx1-ubyte.gz\n",
      "32768/29515 [=================================] - 0s 0us/step\n",
      "Downloading data from http://fashion-mnist.s3-website.eu-central-1.amazonaws.com/train-images-idx3-ubyte.gz\n",
      "26427392/26421880 [==============================] - 4s 0us/step\n",
      "Downloading data from http://fashion-mnist.s3-website.eu-central-1.amazonaws.com/t10k-labels-idx1-ubyte.gz\n",
      "8192/5148 [===============================================] - 0s 0us/step\n",
      "Downloading data from http://fashion-mnist.s3-website.eu-central-1.amazonaws.com/t10k-images-idx3-ubyte.gz\n",
      "4423680/4422102 [==============================] - 1s 0us/step\n"
     ]
    },
    {
     "data": {
      "text/plain": [
       "((60000, 28, 28), (10000, 28, 28))"
      ]
     },
     "execution_count": 3,
     "metadata": {},
     "output_type": "execute_result"
    }
   ],
   "source": [
    "# Load the training and test data sets (ignoring labels)\n",
    "(x_train, _), (x_test, _) = fashion_mnist.load_data()\n",
    "\n",
    "# Normalize the train and test data to a range between 0 and 1.\n",
    "max_value = float(x_train.max())\n",
    "x_train = x_train.astype('float32') / max_value\n",
    "x_test = x_test.astype('float32') / max_value\n",
    "x_train.shape, x_test.shape"
   ]
  },
  {
   "cell_type": "markdown",
   "metadata": {},
   "source": [
    "Above we see that we have 3D arrays of train and test datasets containg 60K and 10K images of size 28x28 pixels. To work with the images as vectors, let’s reshape the 3D arrays as 2D matrices. \n",
    "\n",
    "- Reshape the 28 x 28 images into vectors of length 784 for both train and test set\n",
    "- Print the shape of new datasets"
   ]
  },
  {
   "cell_type": "code",
   "execution_count": 4,
   "metadata": {},
   "outputs": [
    {
     "data": {
      "text/plain": [
       "((60000, 784), (10000, 784))"
      ]
     },
     "execution_count": 4,
     "metadata": {},
     "output_type": "execute_result"
    }
   ],
   "source": [
    "# Reshape the training data to create 1D vectors\n",
    "x_train = x_train.reshape((len(x_train), np.prod(x_train.shape[1:]))) # Second half is equivalent to 28 * 28\n",
    "x_test = x_test.reshape((len(x_test), np.prod(x_test.shape[1:])))\n",
    "\n",
    "(x_train.shape, x_test.shape)"
   ]
  },
  {
   "cell_type": "markdown",
   "metadata": {},
   "source": [
    "## Build a Simple AutoEncoder\n",
    "\n",
    "With our pre-processed data, we can start building a simple autoencoder with it. The encoder and decoder functions are each __fully-connected__ neural layers. The encoder function will use a __ReLU__ (Rectified Linear Unit) activation function, while the decoder function uses a __sigmoid__ activation function.\n",
    "\n",
    "[Here is a good reference on non-linear functions](https://towardsdatascience.com/activation-functions-and-its-types-which-is-better-a9a5310cc8f). \n",
    "\n",
    "> The encoder layer encodes the input image as a compressed, latent representation with reduced dimensionality. The decoder layer decodes the encoded image back to the original dimension. \n",
    "\n",
    "Here we will create the compressed representation with 32 dimensions with a __compression factor__  784 / 32 = 24.5\n",
    "\n",
    "Let's build our Model . Perform following tasks.\n",
    "\n",
    "- Define encoding dimensions (32) and calculate/print the compression factor\n",
    "- Create a `Sequential()` autoencoder model in Keras\n",
    "\n",
    "- Create a fully connected  __encoder layer__  to reduce the dimension from the original 784-dimensional vector to encoded 32-dimensional vector. Use the `relu` activation function\n",
    "\n",
    "- Create a fully connected __decoder layer__ to restore the dimension from the encoded 32-dimensional representation back to the original 784-dimensional vector.Use `sigmoid` activation function\n",
    "\n",
    "- Print he model summary "
   ]
  },
  {
   "cell_type": "code",
   "execution_count": 7,
   "metadata": {},
   "outputs": [
    {
     "name": "stdout",
     "output_type": "stream",
     "text": [
      "Compression factor 24.5\n",
      "_________________________________________________________________\n",
      "Layer (type)                 Output Shape              Param #   \n",
      "=================================================================\n",
      "dense_1 (Dense)              (None, 32)                25120     \n",
      "_________________________________________________________________\n",
      "dense_2 (Dense)              (None, 784)               25872     \n",
      "=================================================================\n",
      "Total params: 50,992\n",
      "Trainable params: 50,992\n",
      "Non-trainable params: 0\n",
      "_________________________________________________________________\n"
     ]
    }
   ],
   "source": [
    "encoding_dim = 32\n",
    "input_dim = x_train.shape[1]\n",
    "print(\"Compression factor\", input_dim/encoding_dim)\n",
    "\n",
    "model = Sequential()\n",
    "model.add(Dense(encoding_dim, input_shape=(input_dim,), activation='relu'))\n",
    "model.add(Dense(input_dim, activation='sigmoid'))\n",
    "model.summary()"
   ]
  },
  {
   "cell_type": "markdown",
   "metadata": {},
   "source": [
    "## Inspect the Encoder\n",
    "Let's try to examine how a compressed representation compares to the original image. We can extract the encoder model from the first layer of the autoencoder model created above. \n",
    "\n",
    "- Extract the first layer of autoencoder to create a new `encoder` model in Keras\n",
    "- Show the summary of encoder model"
   ]
  },
  {
   "cell_type": "code",
   "execution_count": 9,
   "metadata": {},
   "outputs": [
    {
     "name": "stdout",
     "output_type": "stream",
     "text": [
      "_________________________________________________________________\n",
      "Layer (type)                 Output Shape              Param #   \n",
      "=================================================================\n",
      "input_2 (InputLayer)         (None, 784)               0         \n",
      "_________________________________________________________________\n",
      "dense_1 (Dense)              (None, 32)                25120     \n",
      "=================================================================\n",
      "Total params: 25,120\n",
      "Trainable params: 25,120\n",
      "Non-trainable params: 0\n",
      "_________________________________________________________________\n"
     ]
    }
   ],
   "source": [
    "input_img = Input(shape=(input_dim,))\n",
    "encoder_layer = model.layers[0]\n",
    "encoder = Model(input_img, encoder_layer(input_img))\n",
    "\n",
    "encoder.summary()"
   ]
  },
  {
   "cell_type": "markdown",
   "metadata": {},
   "source": [
    "This looks about right. We are now ready to train our autoencoder model. "
   ]
  },
  {
   "cell_type": "markdown",
   "metadata": {},
   "source": [
    "## Training the Model \n",
    "\n",
    "In order to train the model, we need to perform the following tasks: \n",
    "- Compile the autoencoder model with `adam` optimization with `binary_crossentropy` loss (The purpose of the loss function is to reconstruct an image similar to the input image). \n",
    "- Fit the model with training dataset for both input and output (this implies image reconstruction)\n",
    "- Iterate on the training data in batches of 256 in 20 epochs. Set `shuffle` to True for shuffling the batches.\n",
    "- Use the test data for validation \n",
    "\n",
    "(Try increasing number of epochs and observe the effect on learning)"
   ]
  },
  {
   "cell_type": "code",
   "execution_count": 10,
   "metadata": {},
   "outputs": [],
   "source": [
    "model.compile(optimizer='adam', loss='binary_crossentropy')"
   ]
  },
  {
   "cell_type": "code",
   "execution_count": 11,
   "metadata": {},
   "outputs": [
    {
     "name": "stdout",
     "output_type": "stream",
     "text": [
      "Train on 60000 samples, validate on 10000 samples\n",
      "Epoch 1/20\n",
      "60000/60000 [==============================] - 4s 61us/step - loss: 0.4163 - val_loss: 0.3461\n",
      "Epoch 2/20\n",
      "60000/60000 [==============================] - 3s 51us/step - loss: 0.3288 - val_loss: 0.3199\n",
      "Epoch 3/20\n",
      "60000/60000 [==============================] - 3s 50us/step - loss: 0.3113 - val_loss: 0.3076\n",
      "Epoch 4/20\n",
      "60000/60000 [==============================] - 3s 49us/step - loss: 0.3014 - val_loss: 0.3000\n",
      "Epoch 5/20\n",
      "60000/60000 [==============================] - 3s 54us/step - loss: 0.2949 - val_loss: 0.2947\n",
      "Epoch 6/20\n",
      "60000/60000 [==============================] - 3s 49us/step - loss: 0.2910 - val_loss: 0.2918\n",
      "Epoch 7/20\n",
      "60000/60000 [==============================] - 3s 48us/step - loss: 0.2885 - val_loss: 0.2899\n",
      "Epoch 8/20\n",
      "60000/60000 [==============================] - 3s 47us/step - loss: 0.2870 - val_loss: 0.2886\n",
      "Epoch 9/20\n",
      "60000/60000 [==============================] - 3s 47us/step - loss: 0.2860 - val_loss: 0.2878\n",
      "Epoch 10/20\n",
      "60000/60000 [==============================] - 3s 47us/step - loss: 0.2853 - val_loss: 0.2872\n",
      "Epoch 11/20\n",
      "60000/60000 [==============================] - 3s 46us/step - loss: 0.2848 - val_loss: 0.2869\n",
      "Epoch 12/20\n",
      "60000/60000 [==============================] - 3s 47us/step - loss: 0.2844 - val_loss: 0.2864\n",
      "Epoch 13/20\n",
      "60000/60000 [==============================] - 3s 49us/step - loss: 0.2840 - val_loss: 0.2862\n",
      "Epoch 14/20\n",
      "60000/60000 [==============================] - 3s 46us/step - loss: 0.2838 - val_loss: 0.2859\n",
      "Epoch 15/20\n",
      "60000/60000 [==============================] - 3s 46us/step - loss: 0.2836 - val_loss: 0.2857\n",
      "Epoch 16/20\n",
      "60000/60000 [==============================] - 3s 50us/step - loss: 0.2834 - val_loss: 0.2856\n",
      "Epoch 17/20\n",
      "60000/60000 [==============================] - 3s 48us/step - loss: 0.2832 - val_loss: 0.2855\n",
      "Epoch 18/20\n",
      "60000/60000 [==============================] - 3s 53us/step - loss: 0.2831 - val_loss: 0.2854\n",
      "Epoch 19/20\n",
      "60000/60000 [==============================] - 3s 53us/step - loss: 0.2829 - val_loss: 0.2853\n",
      "Epoch 20/20\n",
      "60000/60000 [==============================] - 3s 54us/step - loss: 0.2828 - val_loss: 0.2851\n"
     ]
    },
    {
     "data": {
      "text/plain": [
       "<keras.callbacks.History at 0x21d9a19cc18>"
      ]
     },
     "execution_count": 11,
     "metadata": {},
     "output_type": "execute_result"
    }
   ],
   "source": [
    "model.fit(x_train, x_train,\n",
    "         batch_size=256,\n",
    "         epochs=20,\n",
    "         shuffle=True,\n",
    "         validation_data=(x_test, x_test))"
   ]
  },
  {
   "cell_type": "code",
   "execution_count": 47,
   "metadata": {},
   "outputs": [
    {
     "name": "stdout",
     "output_type": "stream",
     "text": [
      "Train on 60000 samples, validate on 10000 samples\n",
      "Epoch 1/20\n",
      "60000/60000 [==============================] - 2s 36us/step - loss: 0.2835 - val_loss: 0.2856\n",
      "Epoch 2/20\n",
      "60000/60000 [==============================] - 2s 27us/step - loss: 0.2832 - val_loss: 0.2855\n",
      "Epoch 3/20\n",
      "60000/60000 [==============================] - 2s 27us/step - loss: 0.2831 - val_loss: 0.2853\n",
      "Epoch 4/20\n",
      "60000/60000 [==============================] - 2s 26us/step - loss: 0.2829 - val_loss: 0.2852\n",
      "Epoch 5/20\n",
      "60000/60000 [==============================] - 2s 28us/step - loss: 0.2828 - val_loss: 0.2850\n",
      "Epoch 6/20\n",
      "60000/60000 [==============================] - 2s 28us/step - loss: 0.2827 - val_loss: 0.2849\n",
      "Epoch 7/20\n",
      "60000/60000 [==============================] - 2s 28us/step - loss: 0.2826 - val_loss: 0.2848\n",
      "Epoch 8/20\n",
      "60000/60000 [==============================] - 2s 28us/step - loss: 0.2825 - val_loss: 0.2847\n",
      "Epoch 9/20\n",
      "60000/60000 [==============================] - 2s 30us/step - loss: 0.2824 - val_loss: 0.2846\n",
      "Epoch 10/20\n",
      "60000/60000 [==============================] - 2s 29us/step - loss: 0.2823 - val_loss: 0.2846\n",
      "Epoch 11/20\n",
      "60000/60000 [==============================] - 2s 28us/step - loss: 0.2822 - val_loss: 0.2846\n",
      "Epoch 12/20\n",
      "60000/60000 [==============================] - 2s 28us/step - loss: 0.2822 - val_loss: 0.2845\n",
      "Epoch 13/20\n",
      "60000/60000 [==============================] - 2s 28us/step - loss: 0.2821 - val_loss: 0.2844\n",
      "Epoch 14/20\n",
      "60000/60000 [==============================] - 2s 28us/step - loss: 0.2821 - val_loss: 0.2844\n",
      "Epoch 15/20\n",
      "60000/60000 [==============================] - 2s 28us/step - loss: 0.2820 - val_loss: 0.2844\n",
      "Epoch 16/20\n",
      "60000/60000 [==============================] - 2s 29us/step - loss: 0.2819 - val_loss: 0.2843\n",
      "Epoch 17/20\n",
      "60000/60000 [==============================] - 2s 31us/step - loss: 0.2819 - val_loss: 0.2842\n",
      "Epoch 18/20\n",
      "60000/60000 [==============================] - 2s 31us/step - loss: 0.2819 - val_loss: 0.2842\n",
      "Epoch 19/20\n",
      "60000/60000 [==============================] - 2s 28us/step - loss: 0.2818 - val_loss: 0.2842\n",
      "Epoch 20/20\n",
      "60000/60000 [==============================] - 2s 28us/step - loss: 0.2818 - val_loss: 0.2842\n"
     ]
    },
    {
     "data": {
      "text/plain": [
       "<keras.callbacks.History at 0x182b015cc0>"
      ]
     },
     "execution_count": 47,
     "metadata": {},
     "output_type": "execute_result"
    }
   ],
   "source": [
    "\n",
    "\n",
    "# Your code here\n",
    "\n"
   ]
  },
  {
   "cell_type": "markdown",
   "metadata": {},
   "source": [
    "Great, We’ve successfully trained our autoencoder. Our  autoencoder model can now compress a Fashion MNIST image down to 32 floating-point digits."
   ]
  },
  {
   "cell_type": "markdown",
   "metadata": {},
   "source": [
    "## Visualize The Results\n",
    "\n",
    "To visually inspect the quality of compressed images, let's pick up a few images randomly and see how their  reconstruction looks. \n",
    "\n",
    "- Select 10 images randomly from the test set\n",
    "- Use the `encoder` model to predict encoded representation (the code) for chosen images\n",
    "- Use the `autoencoder` model to get the reconstructed images\n",
    "- For each image, show the actual image, the compressed representation and the reconstruction "
   ]
  },
  {
   "cell_type": "code",
   "execution_count": 13,
   "metadata": {},
   "outputs": [
    {
     "data": {
      "image/png": "[encoded data removed]",
      "text/plain": [
       "<Figure size 1296x288 with 30 Axes>"
      ]
     },
     "metadata": {
      "needs_background": "light"
     },
     "output_type": "display_data"
    }
   ],
   "source": [
    "# From solutions\n",
    "# Randomly Select 10 images from the test set \n",
    "num_images = 10\n",
    "np.random.seed(50)\n",
    "random_test_images = np.random.randint(x_test.shape[0], size=num_images)\n",
    "\n",
    "encoded_imgs = encoder.predict(x_test)\n",
    "decoded_imgs = model.predict(x_test)\n",
    "\n",
    "plt.figure(figsize=(18, 4))\n",
    "\n",
    "for i, image_idx in enumerate(random_test_images):\n",
    "    # plot original image\n",
    "    ax = plt.subplot(3, num_images, i + 1)\n",
    "    plt.imshow(x_test[image_idx].reshape(28, 28))\n",
    "    plt.gray()\n",
    "    ax.get_xaxis().set_visible(False)\n",
    "    ax.get_yaxis().set_visible(False)\n",
    "    \n",
    "    # plot encoded image\n",
    "    ax = plt.subplot(3, num_images, num_images + i + 1)\n",
    "    plt.imshow(encoded_imgs[image_idx].reshape(8, 4))\n",
    "    plt.gray()\n",
    "    ax.get_xaxis().set_visible(False)\n",
    "    ax.get_yaxis().set_visible(False)\n",
    "\n",
    "    # plot reconstructed image\n",
    "    ax = plt.subplot(3, num_images, 2*num_images + i + 1)\n",
    "    plt.imshow(decoded_imgs[image_idx].reshape(28, 28))\n",
    "    plt.gray()\n",
    "    ax.get_xaxis().set_visible(False)\n",
    "    ax.get_yaxis().set_visible(False)\n",
    "plt.show()"
   ]
  },
  {
   "cell_type": "code",
   "execution_count": 22,
   "metadata": {},
   "outputs": [
    {
     "data": {
      "image/png": "[encoded data removed]",
      "text/plain": [
       "<matplotlib.figure.Figure at 0x10ff9e860>"
      ]
     },
     "metadata": {},
     "output_type": "display_data"
    }
   ],
   "source": [
    "\n",
    "\n",
    "# Your code here\n",
    "\n"
   ]
  },
  {
   "cell_type": "markdown",
   "metadata": {},
   "source": [
    "We can see, as expected, the reconstructed images are quite lossy due to the huge reduction in dimensionality. We can see the shapes of these objects clearly, but the loss in image quality has taken away a lot of distinguishing features. So the compression is not highly impressive, but it works , and proves the point. We can improve the peroformance of such AEs using deeper networks as we shall see in our next lab. \n"
   ]
  },
  {
   "cell_type": "markdown",
   "metadata": {},
   "source": [
    "## Summary \n",
    "\n",
    "In this lab, we built a simple autoencoder using the fashion-MNIST dataset for a problem of image compression. We looked into creating the encoder and decoder layers in Keras and Training the model. We also visually inspected the results of this compression. "
   ]
  }
 ],
 "metadata": {
  "kernelspec": {
   "display_name": "Python 3",
   "language": "python",
   "name": "python3"
  },
  "language_info": {
   "codemirror_mode": {
    "name": "ipython",
    "version": 3
   },
   "file_extension": ".py",
   "mimetype": "text/x-python",
   "name": "python",
   "nbconvert_exporter": "python",
   "pygments_lexer": "ipython3",
   "version": "3.6.6"
  }
 },
 "nbformat": 4,
 "nbformat_minor": 2
}
